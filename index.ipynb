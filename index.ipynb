{
 "cells": [
  {
   "cell_type": "code",
   "execution_count": 40,
   "metadata": {},
   "outputs": [],
   "source": [
    "from scipy.io import wavfile\n",
    "from scipy import signal\n",
    "import matplotlib.pyplot as plt\n",
    "import numpy as np"
   ]
  },
  {
   "cell_type": "markdown",
   "metadata": {},
   "source": [
    "# Variables\n",
    "**Electromagnetic Strength:** Something Addison help me\n",
    "\n",
    "**Damping:** Something Addison help me\n",
    "\n",
    "**Spring Coefficient:** Something Addison help me"
   ]
  },
  {
   "cell_type": "code",
   "execution_count": 41,
   "metadata": {},
   "outputs": [],
   "source": [
    "electromagnetic_strength = 10000\n",
    "damping = -100*10\n",
    "spring_coefficient = -0.01"
   ]
  },
  {
   "cell_type": "code",
   "execution_count": 42,
   "metadata": {},
   "outputs": [
    {
     "name": "stdout",
     "output_type": "stream",
     "text": [
      "Total Data Length: 220500 , Sample Rate: 44100\n"
     ]
    },
    {
     "name": "stderr",
     "output_type": "stream",
     "text": [
      "<ipython-input-42-f99ce1d06fcc>:2: WavFileWarning: Chunk (non-data) not understood, skipping it.\n",
      "  samplerate, original = wavfile.read('./100hz.wav')\n"
     ]
    }
   ],
   "source": [
    "# Read Sample File\n",
    "samplerate, original = wavfile.read('./100hz.wav')\n",
    "print(\"Total Data Length:\", len(original), \", Sample Rate:\",samplerate)"
   ]
  },
  {
   "cell_type": "markdown",
   "metadata": {},
   "source": [
    "# Doing Our Adjustments"
   ]
  },
  {
   "cell_type": "code",
   "execution_count": 43,
   "metadata": {},
   "outputs": [],
   "source": [
    "# Get maximum value of original (tells us how loud the original file is)\n",
    "max_original = np.amax(np.absolute(original))\n",
    "\n",
    "beg = 0\n",
    "end = 100\n",
    "# end = len(original)\n",
    "\n",
    "original = original[beg:end]\n",
    "\n",
    "# Set start time to beginning \n",
    "time = beg"
   ]
  },
  {
   "cell_type": "code",
   "execution_count": 44,
   "metadata": {},
   "outputs": [],
   "source": [
    "first_integral_last_value = 0\n",
    "second_integral_last_value = 0\n",
    "\n",
    "adjusted = []\n",
    "while time<end:\n",
    "    electromagnetic_force = electromagnetic_strength * original[time] # ElectromagneticStrength * InputSignal\n",
    "    \n",
    "    first_integral = original[time] + first_integral_last_value # Integral(InputSignal)\n",
    "    second_integral = first_integral + second_integral_last_value  # Integral(Integral(InputSignal))\n",
    "\n",
    "    damped_signal = damping * first_integral # Damping * Integral(InputSignal)\n",
    "    springed_signal = spring_coefficient * second_integral # SpringCoefficient * Integral(Integral(InputSignal))\n",
    "\n",
    "    last_input_integral_1 = first_integral\n",
    "    last_input_integral_2 = second_integral\n",
    "\n",
    "    output = electromagnetic_force - (damped_signal + springed_signal)\n",
    "    output = -1*(damped_signal + springed_signal)\n",
    "\n",
    "    adjusted.append(output)\n",
    "\n",
    "    time += 1"
   ]
  },
  {
   "cell_type": "markdown",
   "metadata": {},
   "source": [
    "# Creating the Butter Filter\n",
    "This uses `scipy.signal`"
   ]
  },
  {
   "cell_type": "code",
   "execution_count": 45,
   "metadata": {},
   "outputs": [],
   "source": [
    "sos = signal.butter(10,20,\"highpass\",fs=samplerate, output=\"sos\")\n",
    "\n",
    "buttered_original = signal.sosfilt(sos, original)\n",
    "buttered_adjusted = signal.sosfilt(sos, adjusted)"
   ]
  },
  {
   "cell_type": "markdown",
   "metadata": {},
   "source": [
    "# Stabilizing Values\n",
    "The new audio file often comes out on a very different scale than the original, so we set the maximum values equal to account for this"
   ]
  },
  {
   "cell_type": "code",
   "execution_count": 47,
   "metadata": {},
   "outputs": [
    {
     "name": "stdout",
     "output_type": "stream",
     "text": [
      "Scalar: 0.0010129931320553634\n"
     ]
    },
    {
     "ename": "TypeError",
     "evalue": "can't multiply sequence by non-int of type 'numpy.float64'",
     "output_type": "error",
     "traceback": [
      "\u001b[0;31m---------------------------------------------------------------------------\u001b[0m",
      "\u001b[0;31mTypeError\u001b[0m                                 Traceback (most recent call last)",
      "\u001b[0;32m<ipython-input-47-b124a571554a>\u001b[0m in \u001b[0;36m<module>\u001b[0;34m\u001b[0m\n\u001b[1;32m      6\u001b[0m \u001b[0;34m\u001b[0m\u001b[0m\n\u001b[1;32m      7\u001b[0m \u001b[0;31m# original = stabilize(original)\u001b[0m\u001b[0;34m\u001b[0m\u001b[0;34m\u001b[0m\u001b[0;34m\u001b[0m\u001b[0m\n\u001b[0;32m----> 8\u001b[0;31m \u001b[0madjusted\u001b[0m \u001b[0;34m=\u001b[0m \u001b[0mnormalize\u001b[0m\u001b[0;34m(\u001b[0m\u001b[0madjusted\u001b[0m\u001b[0;34m)\u001b[0m\u001b[0;34m\u001b[0m\u001b[0;34m\u001b[0m\u001b[0m\n\u001b[0m",
      "\u001b[0;32m<ipython-input-47-b124a571554a>\u001b[0m in \u001b[0;36mnormalize\u001b[0;34m(values)\u001b[0m\n\u001b[1;32m      2\u001b[0m     \u001b[0mmax_values\u001b[0m \u001b[0;34m=\u001b[0m \u001b[0mnp\u001b[0m\u001b[0;34m.\u001b[0m\u001b[0mamax\u001b[0m\u001b[0;34m(\u001b[0m\u001b[0mnp\u001b[0m\u001b[0;34m.\u001b[0m\u001b[0mabsolute\u001b[0m\u001b[0;34m(\u001b[0m\u001b[0mvalues\u001b[0m\u001b[0;34m)\u001b[0m\u001b[0;34m)\u001b[0m\u001b[0;34m\u001b[0m\u001b[0;34m\u001b[0m\u001b[0m\n\u001b[1;32m      3\u001b[0m     \u001b[0mprint\u001b[0m\u001b[0;34m(\u001b[0m\u001b[0;34m\"Scalar:\"\u001b[0m\u001b[0;34m,\u001b[0m \u001b[0;34m(\u001b[0m\u001b[0mmax_original\u001b[0m \u001b[0;34m/\u001b[0m \u001b[0mmax_values\u001b[0m\u001b[0;34m)\u001b[0m\u001b[0;34m)\u001b[0m\u001b[0;34m\u001b[0m\u001b[0;34m\u001b[0m\u001b[0m\n\u001b[0;32m----> 4\u001b[0;31m     \u001b[0mnormalized\u001b[0m \u001b[0;34m=\u001b[0m \u001b[0;34m(\u001b[0m\u001b[0mmax_original\u001b[0m \u001b[0;34m/\u001b[0m \u001b[0mmax_values\u001b[0m\u001b[0;34m)\u001b[0m \u001b[0;34m*\u001b[0m \u001b[0mvalues\u001b[0m\u001b[0;34m\u001b[0m\u001b[0;34m\u001b[0m\u001b[0m\n\u001b[0m\u001b[1;32m      5\u001b[0m     \u001b[0;32mreturn\u001b[0m \u001b[0mnormalized\u001b[0m\u001b[0;34m\u001b[0m\u001b[0;34m\u001b[0m\u001b[0m\n\u001b[1;32m      6\u001b[0m \u001b[0;34m\u001b[0m\u001b[0m\n",
      "\u001b[0;31mTypeError\u001b[0m: can't multiply sequence by non-int of type 'numpy.float64'"
     ]
    }
   ],
   "source": [
    "def normalize(values):\n",
    "    max_values = np.amax(np.absolute(values))\n",
    "    print(\"Scalar:\", (max_original / max_values))\n",
    "    normalized = (max_original / max_values) * values\n",
    "    return normalized\n",
    "    \n",
    "# original = stabilize(original)\n",
    "adjusted = normalize(adjusted)"
   ]
  },
  {
   "cell_type": "markdown",
   "metadata": {},
   "source": [
    "# Plotting New Values"
   ]
  },
  {
   "cell_type": "code",
   "execution_count": 36,
   "metadata": {},
   "outputs": [
    {
     "data": {
      "image/png": "[encoded data removed]",
      "text/plain": [
       "<Figure size 432x288 with 4 Axes>"
      ]
     },
     "metadata": {
      "needs_background": "light"
     },
     "output_type": "display_data"
    }
   ],
   "source": [
    "fig, (ax1, ax2, ax3, ax4) = plt.subplots(4, sharex=True)\n",
    "fig.suptitle('Original and Adjusted Waves')\n",
    "\n",
    "ax1.plot(original)\n",
    "ax1.set_title(\"Original\")\n",
    "\n",
    "ax2.plot(adjusted)\n",
    "ax2.set_title(\"Unbuttered Adjusted\")\n",
    "\n",
    "ax3.plot(buttered_adjusted)\n",
    "ax3.set_title(\"Buttered Adjusted (Output)\")\n",
    "\n",
    "ax4.plot(buttered_original)\n",
    "ax4.set_title(\"Buttered Original\")\n",
    "\n",
    "plt.tight_layout()\n",
    "plt.show()"
   ]
  },
  {
   "cell_type": "markdown",
   "metadata": {},
   "source": [
    "# Saving the New File"
   ]
  },
  {
   "cell_type": "code",
   "execution_count": 48,
   "metadata": {},
   "outputs": [],
   "source": [
    "wavfile.write(\"output.wav\", samplerate, buttered_adjusted)"
   ]
  },
  {
   "cell_type": "code",
   "execution_count": null,
   "metadata": {},
   "outputs": [],
   "source": []
  }
 ],
 "metadata": {
  "kernelspec": {
   "display_name": "Python 3",
   "language": "python",
   "name": "python3"
  },
  "language_info": {
   "codemirror_mode": {
    "name": "ipython",
    "version": 3
   },
   "file_extension": ".py",
   "mimetype": "text/x-python",
   "name": "python",
   "nbconvert_exporter": "python",
   "pygments_lexer": "ipython3",
   "version": "3.8.5"
  }
 },
 "nbformat": 4,
 "nbformat_minor": 4
}
