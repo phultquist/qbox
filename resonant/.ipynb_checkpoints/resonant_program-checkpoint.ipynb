{
 "cells": [
  {
   "cell_type": "code",
   "execution_count": null,
   "metadata": {},
   "outputs": [],
   "source": [
    "from scipy.io import wavfile\n",
    "from scipy import signal\n",
    "import matplotlib.pyplot as plt\n",
    "import numpy as np\n",
    "from scipy import constants\n",
    "\n",
    "import pandas as pd"
   ]
  },
  {
   "cell_type": "code",
   "execution_count": null,
   "metadata": {},
   "outputs": [],
   "source": [
    "mms = 1\n",
    "qtc = 0.703\n",
    "fsc = 31\n",
    "test_tone = 31\n",
    "virtual_damping_coefficient = 7\n",
    "spring_coefficient = 37938.75932\n",
    "damping_coefficient = 277.0679154\n",
    "electromagnetic_force_coefficient = 1"
   ]
  },
  {
   "cell_type": "code",
   "execution_count": null,
   "metadata": {},
   "outputs": [],
   "source": [
    "timeDelta = 1/44100\n",
    "endTime = 0.2\n",
    "time = 0\n",
    "\n",
    "initial_position = 0\n",
    "initial_velocity = 0\n",
    "\n",
    "def get_row(position, velocity):\n",
    "    global time;\n",
    "    spring_force = spring_coefficient * position * -1\n",
    "    damping_force = damping_coefficient * velocity * -1\n",
    "    virtual_damping_force = virtual_damping_coefficient * damping_force\n",
    "    virtual_damping_voltage = virtual_damping_force * electromagnetic_force_coefficient\n",
    "    signal = np.sin(2*np.pi * test_tone * time)\n",
    "    electromagnetic_force = signal * electromagnetic_force_coefficient\n",
    "    output_voltage = virtual_damping_voltage + signal\n",
    "    total_force = spring_force + damping_force + electromagnetic_force + virtual_damping_force\n",
    "    acceleration = total_force * mms\n",
    "    \n",
    "    return {\n",
    "        'Time': time,\n",
    "        'Position': position,\n",
    "        'Velocity': velocity,\n",
    "        'Acceleration': acceleration,\n",
    "        'Total Force': total_force,\n",
    "        'Spring Force': spring_force,\n",
    "        'Damping Force': damping_force,\n",
    "        'Virtual Damping Force': virtual_damping_force,\n",
    "        'Virtual Damping Voltage': virtual_damping_voltage,\n",
    "        'Output Voltage': output_voltage,\n",
    "        'Electromagnetic Force': electromagnetic_force,\n",
    "        'Signal': signal\n",
    "    }\n",
    "\n",
    "initial_row = {\n",
    "        'Time': [],\n",
    "        'Position': [],\n",
    "        'Velocity': [],\n",
    "        'Acceleration': [],\n",
    "        'Total Force': [],\n",
    "        'Spring Force': [],\n",
    "        'Damping Force': [],\n",
    "        'Virtual Damping Force': [],\n",
    "        'Virtual Damping Voltage': [],\n",
    "        'Output Voltage': [],\n",
    "        'Electromagnetic Force': [],\n",
    "        'Signal': []\n",
    "    }\n",
    "\n",
    "df = pd.DataFrame(data=initial_row)\n",
    "\n",
    "df = df.append(get_row(initial_position,initial_velocity), ignore_index=True)\n",
    "\n",
    "while (time < endTime):\n",
    "    time += timeDelta\n",
    "    last_row = df.iloc[len(df) - 1]\n",
    "#     print(last_row[\"Velocity\"])\n",
    "\n",
    "    new_velocity = last_row[\"Velocity\"] + last_row[\"Acceleration\"] * timeDelta\n",
    "    new_position = last_row[\"Position\"] + new_velocity * timeDelta\n",
    "\n",
    "    new_row = get_row(new_position, new_velocity)\n",
    "    df = df.append(new_row, ignore_index=True)\n",
    "\n",
    "plt.plot(df['Velocity'])"
   ]
  },
  {
   "cell_type": "code",
   "execution_count": null,
   "metadata": {},
   "outputs": [],
   "source": []
  },
  {
   "cell_type": "code",
   "execution_count": null,
   "metadata": {},
   "outputs": [],
   "source": []
  }
 ],
 "metadata": {
  "kernelspec": {
   "display_name": "Python 3",
   "language": "python",
   "name": "python3"
  },
  "language_info": {
   "codemirror_mode": {
    "name": "ipython",
    "version": 3
   },
   "file_extension": ".py",
   "mimetype": "text/x-python",
   "name": "python",
   "nbconvert_exporter": "python",
   "pygments_lexer": "ipython3",
   "version": "3.8.5"
  }
 },
 "nbformat": 4,
 "nbformat_minor": 4
}
