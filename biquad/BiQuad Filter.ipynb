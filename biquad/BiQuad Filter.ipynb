{
 "cells": [
  {
   "cell_type": "code",
   "execution_count": 79,
   "metadata": {},
   "outputs": [],
   "source": [
    "from scipy.io import wavfile\n",
    "from scipy import signal\n",
    "from scipy.interpolate import CubicSpline\n",
    "\n",
    "import matplotlib.pyplot as plt\n",
    "import numpy as np\n",
    "from scipy import constants\n",
    "\n",
    "import pandas as pd"
   ]
  },
  {
   "cell_type": "code",
   "execution_count": 80,
   "metadata": {},
   "outputs": [],
   "source": [
    "def biquad(arr, a0, a1, a2, b0, b1, b2):\n",
    "    x_prev1 = 0 #x sub n-1\n",
    "    x_prev2 = 0 #x sub n-2\n",
    "    \n",
    "    y_prev1 = 0 #y prev n-1\n",
    "    y_prev2 = 0 #y sub n-2\n",
    "    \n",
    "    output = []\n",
    "    \n",
    "    for i in range(len(arr)):\n",
    "        # i = 0, 1, 2, 3, 4, 5...\n",
    "            \n",
    "        x_current = arr[i]\n",
    "        y_current = (a0 * x_current + a1 * x_prev1 + a2 * x_prev2 - b1 * y_prev1 - b2 * y_prev2) / b0\n",
    "        \n",
    "        output.append(y_current)\n",
    "        \n",
    "        x_prev2 = x_prev1\n",
    "        x_prev1 = x_current\n",
    "        \n",
    "        y_prev2 = y_prev1\n",
    "        y_prev1 = y_current\n",
    "        \n",
    "    return output"
   ]
  },
  {
   "cell_type": "code",
   "execution_count": 91,
   "metadata": {},
   "outputs": [
    {
     "name": "stdout",
     "output_type": "stream",
     "text": [
      "Length of recording: 20.0\n",
      "Length of input data: 882000\n"
     ]
    },
    {
     "data": {
      "image/png": "[encoded data removed]",
      "text/plain": [
       "<Figure size 432x288 with 1 Axes>"
      ]
     },
     "metadata": {
      "needs_background": "light"
     },
     "output_type": "display_data"
    }
   ],
   "source": [
    "sample_rate, input_data = wavfile.read('./../samples/LogSweep_10_1000_44k_16-bit_L.wav')\n",
    "# plt.plot(input_data[0:100])\n",
    "# input_data = input_data[18 * 44000:18*44000 + 25]\n",
    "\n",
    "upsample_scale = 8\n",
    "\n",
    "cs = CubicSpline(np.arange(len(input_data)), input_data)\n",
    "\n",
    "xs = np.arange(0, len(input_data), 1/upsample_scale)\n",
    "\n",
    "# upsampled = np.int16(cs(xs))\n",
    "upsampled = cs(xs)\n",
    "upsampled_rate = upsample_scale * sample_rate\n",
    "\n",
    "print(\"Length of recording: \" + str(len(input_data)/sample_rate))\n",
    "# plt.plot(xs, cs(xs))\n",
    "plt.plot(input_data)\n",
    "print(\"Length of input data: \" + str(len(input_data)))\n",
    "# plt.plot(xs, upsampled)\n",
    "# after_biquad = biquad(input_data, \n",
    "#        a0 = 0.7368429900740087, \n",
    "#        a1 = -1.4736859801480173,\n",
    "#        a2 = 0.7368429900740087,\n",
    "#        b0 = 1,\n",
    "#        b1 = -1.4042736459936045,\n",
    "#        b2 = 0.5430983143024303\n",
    "#       )\n",
    "\n",
    "# plt.plot(after_biquad)"
   ]
  },
  {
   "cell_type": "code",
   "execution_count": 92,
   "metadata": {},
   "outputs": [],
   "source": [
    "def normalize(original, output_data):\n",
    "    max_original = np.amax(np.absolute(original))\n",
    "    max_values = np.amax(np.absolute(output_data))\n",
    "    scalar = (max_original / max_values)\n",
    "    print(\"Scalar:\", scalar)\n",
    "    \n",
    "    for i in range(len(output_data)):\n",
    "        output_data[i] = scalar * output_data[i]\n",
    "\n",
    "    return np.int16(output_data)"
   ]
  },
  {
   "cell_type": "code",
   "execution_count": 93,
   "metadata": {},
   "outputs": [],
   "source": [
    "def biquad_with_negative_feedback(arr, a0, a1, a2, b0, b1, b2, fb_k, store_servo=True):\n",
    "    servo_signal_current = 0 #\n",
    "    \n",
    "    servo_signal_prev1 = 0 #servo_signal sub n-1\n",
    "    servo_signal_prev2 = 0 #servo_signal sub n-2\n",
    "    \n",
    "    y_prev1 = 0 #y prev n-1\n",
    "    y_prev2 = 0 #y sub n-2\n",
    "    \n",
    "    output = []\n",
    "    \n",
    "    for i in range(len(arr)):\n",
    "        # i = 0, 1, 2, 3, 4, 5...\n",
    "            \n",
    "        x_current = arr[i]\n",
    "        \n",
    "        servo_signal_current = x_current - fb_k * y_prev1\n",
    "        \n",
    "        if i < 44100 * 0.5 * 0.25:\n",
    "#             print(x_current, y_prev1)\n",
    "            pass\n",
    "        \n",
    "        y_current = (a0 * servo_signal_current + a1 * servo_signal_prev1 + a2 * servo_signal_prev2 - b1 * y_prev1 - b2 * y_prev2) / b0\n",
    "\n",
    "        if store_servo:\n",
    "            output.append(servo_signal_current)\n",
    "        else:\n",
    "            output.append(y_current)\n",
    "    \n",
    "        servo_signal_prev2 = servo_signal_prev1\n",
    "        servo_signal_prev1 = servo_signal_current\n",
    "        \n",
    "        y_prev2 = y_prev1\n",
    "        y_prev1 = y_current\n",
    "        \n",
    "    return output"
   ]
  },
  {
   "cell_type": "code",
   "execution_count": 94,
   "metadata": {},
   "outputs": [
    {
     "data": {
      "text/plain": [
       "[<matplotlib.lines.Line2D at 0x7f9459e651c0>,\n",
       " <matplotlib.lines.Line2D at 0x7f9459e65d90>]"
      ]
     },
     "execution_count": 94,
     "metadata": {},
     "output_type": "execute_result"
    },
    {
     "data": {
      "image/png": "[encoded data removed]",
      "text/plain": [
       "<Figure size 432x288 with 1 Axes>"
      ]
     },
     "metadata": {
      "needs_background": "light"
     },
     "output_type": "display_data"
    }
   ],
   "source": [
    "### 8 inch Dayton DVC ###\n",
    "# after_resonance_compensation = biquad_with_negative_feedback(\n",
    "# upsampled,\n",
    "# a0 = 0.0057426788667661955,\n",
    "# a1 = 0,\n",
    "# b0 = 1,\n",
    "# a2 = -0.0057426788667661955,\n",
    "# b1 = -1.9884505557207934,\n",
    "# b2 = 0.9885146422664675,\n",
    "# fb_k = 0.9\n",
    "# )\n",
    "\n",
    "after_resonance_compensation = biquad_with_negative_feedback(\n",
    "upsampled,\n",
    "a0 = 0.009331629959095806,\n",
    "a1 = 0,\n",
    "b0 = 1,\n",
    "a2 = -0.009331629959095806,\n",
    "b1 = -1.9811609365263363,\n",
    "b2 = 0.9813367400818084,\n",
    "fb_k = 0.95\n",
    ")\n",
    "\n",
    "plt.plot(after_resonance_compensation)"
   ]
  },
  {
   "cell_type": "code",
   "execution_count": 95,
   "metadata": {},
   "outputs": [
    {
     "name": "stdout",
     "output_type": "stream",
     "text": [
      "[[   0    0]\n",
      " [  17    0]\n",
      " [  33    0]\n",
      " [  50    0]\n",
      " [  66    0]\n",
      " [  83    0]\n",
      " [  99    0]\n",
      " [ 116    0]\n",
      " [ 133    0]\n",
      " [ 149    0]\n",
      " [ 166    0]\n",
      " [ 182    0]\n",
      " [ 199    0]\n",
      " [ 215    0]\n",
      " [ 232    0]\n",
      " [ 248    0]\n",
      " [ 265    0]\n",
      " [ 282    0]\n",
      " [ 298    0]\n",
      " [ 315    0]\n",
      " [ 331    0]\n",
      " [ 348    0]\n",
      " [ 364    0]\n",
      " [ 381    0]\n",
      " [ 397    0]\n",
      " [ 414    0]\n",
      " [ 431    0]\n",
      " [ 447    0]\n",
      " [ 464    0]\n",
      " [ 480    0]\n",
      " [ 497    0]\n",
      " [ 513    0]\n",
      " [ 530    0]\n",
      " [ 546    0]\n",
      " [ 563    0]\n",
      " [ 580    0]\n",
      " [ 596    0]\n",
      " [ 613    0]\n",
      " [ 629    0]\n",
      " [ 646    0]\n",
      " [ 662    0]\n",
      " [ 679    0]\n",
      " [ 695    0]\n",
      " [ 712    0]\n",
      " [ 728    0]\n",
      " [ 745    0]\n",
      " [ 762    0]\n",
      " [ 778    0]\n",
      " [ 795    0]\n",
      " [ 811    0]\n",
      " [ 828    0]\n",
      " [ 844    0]\n",
      " [ 861    0]\n",
      " [ 877    0]\n",
      " [ 894    0]\n",
      " [ 910    0]\n",
      " [ 927    0]\n",
      " [ 943    0]\n",
      " [ 960    0]\n",
      " [ 976    0]\n",
      " [ 993    0]\n",
      " [1009    0]\n",
      " [1026    0]\n",
      " [1042    0]\n",
      " [1059    0]\n",
      " [1075    0]\n",
      " [1092    0]\n",
      " [1108    0]\n",
      " [1125    0]\n",
      " [1141    0]\n",
      " [1158    0]\n",
      " [1174    0]\n",
      " [1191    0]\n",
      " [1207    0]\n",
      " [1224    0]\n",
      " [1240    0]\n",
      " [1257    0]\n",
      " [1273    0]\n",
      " [1290    0]\n",
      " [1306    0]\n",
      " [1323    0]\n",
      " [1339    0]\n",
      " [1355    0]\n",
      " [1372    0]\n",
      " [1388    0]\n",
      " [1405    0]\n",
      " [1421    0]\n",
      " [1438    0]\n",
      " [1454    0]\n",
      " [1471    0]\n",
      " [1487    0]\n",
      " [1504    0]\n",
      " [1520    0]\n",
      " [1536    0]\n",
      " [1553    0]\n",
      " [1569    0]\n",
      " [1586    0]\n",
      " [1602    0]\n",
      " [1618    0]\n",
      " [1635    0]]\n",
      "[[   0    0]\n",
      " [  14    0]\n",
      " [  28    0]\n",
      " [  41    0]\n",
      " [  52    0]\n",
      " [  63    0]\n",
      " [  73    0]\n",
      " [  84    0]\n",
      " [  94    0]\n",
      " [ 104    0]\n",
      " [ 114    0]\n",
      " [ 124    0]\n",
      " [ 135    0]\n",
      " [ 145    0]\n",
      " [ 156    0]\n",
      " [ 166    0]\n",
      " [ 177    0]\n",
      " [ 189    0]\n",
      " [ 200    0]\n",
      " [ 212    0]\n",
      " [ 223    0]\n",
      " [ 236    0]\n",
      " [ 247    0]\n",
      " [ 260    0]\n",
      " [ 272    0]\n",
      " [ 285    0]\n",
      " [ 299    0]\n",
      " [ 311    0]\n",
      " [ 325    0]\n",
      " [ 338    0]\n",
      " [ 352    0]\n",
      " [ 365    0]\n",
      " [ 379    0]\n",
      " [ 392    0]\n",
      " [ 407    0]\n",
      " [ 421    0]\n",
      " [ 435    0]\n",
      " [ 450    0]\n",
      " [ 464    0]\n",
      " [ 479    0]\n",
      " [ 493    0]\n",
      " [ 508    0]\n",
      " [ 522    0]\n",
      " [ 537    0]\n",
      " [ 552    0]\n",
      " [ 567    0]\n",
      " [ 583    0]\n",
      " [ 597    0]\n",
      " [ 613    0]\n",
      " [ 628    0]\n",
      " [ 644    0]\n",
      " [ 658    0]\n",
      " [ 674    0]\n",
      " [ 689    0]\n",
      " [ 705    0]\n",
      " [ 720    0]\n",
      " [ 736    0]\n",
      " [ 752    0]\n",
      " [ 768    0]\n",
      " [ 783    0]\n",
      " [ 799    0]\n",
      " [ 814    0]\n",
      " [ 831    0]\n",
      " [ 846    0]\n",
      " [ 862    0]\n",
      " [ 878    0]\n",
      " [ 894    0]\n",
      " [ 910    0]\n",
      " [ 926    0]\n",
      " [ 942    0]\n",
      " [ 958    0]\n",
      " [ 974    0]\n",
      " [ 990    0]\n",
      " [1006    0]\n",
      " [1022    0]\n",
      " [1038    0]\n",
      " [1055    0]\n",
      " [1070    0]\n",
      " [1087    0]\n",
      " [1103    0]\n",
      " [1119    0]\n",
      " [1135    0]\n",
      " [1151    0]\n",
      " [1168    0]\n",
      " [1184    0]\n",
      " [1200    0]\n",
      " [1216    0]\n",
      " [1233    0]\n",
      " [1249    0]\n",
      " [1265    0]\n",
      " [1281    0]\n",
      " [1298    0]\n",
      " [1314    0]\n",
      " [1330    0]\n",
      " [1347    0]\n",
      " [1363    0]\n",
      " [1379    0]\n",
      " [1395    0]\n",
      " [1411    0]\n",
      " [1428    0]]\n",
      "882000\n",
      "882000\n",
      "Downsample Rate: 44100\n",
      "Length of final file: 20.0\n",
      "Scalar: 1.0005163\n",
      "Scalar: 1.0005163\n"
     ]
    },
    {
     "data": {
      "text/plain": [
       "[<matplotlib.lines.Line2D at 0x7f8a1fd6d700>,\n",
       " <matplotlib.lines.Line2D at 0x7f8a1fd6d7f0>]"
      ]
     },
     "execution_count": 95,
     "metadata": {},
     "output_type": "execute_result"
    },
    {
     "data": {
      "image/png": "[encoded data removed]",
      "text/plain": [
       "<Figure size 432x288 with 1 Axes>"
      ]
     },
     "metadata": {
      "needs_background": "light"
     },
     "output_type": "display_data"
    }
   ],
   "source": [
    "after_resonance_after_backwave = biquad_with_negative_feedback(\n",
    "after_resonance_compensation,\n",
    "a0 = 0.4116558936798249,\n",
    "a1 = 0,\n",
    "a2 = -0.4116558936798249,\n",
    "b0 = 1,\n",
    "b1 = -0.17123074520885376,\n",
    "b2 = 0.17668821264035015,\n",
    "fb_k = 0.9\n",
    ")\n",
    "\n",
    "def downsample(item, scale):\n",
    "    cs = CubicSpline(np.arange(len(item)), item)\n",
    "    xs = np.arange(0, len(item), 1/ scale)\n",
    "\n",
    "    downsampled = cs(xs)\n",
    "    downsampled = np.int16(downsampled)\n",
    "    downsample_rate = int(downsample_scale * upsampled_rate)\n",
    "    \n",
    "    return downsampled, downsample_rate\n",
    "\n",
    "downsample_scale = 1 / upsample_scale\n",
    "\n",
    "downsampled, downsample_rate = downsample(after_resonance_after_backwave, 1 / upsample_scale)\n",
    "downsampled_after_resonance_compensation, downsample_after_resonance_compensation_rate = downsample(after_resonance_compensation, 1 / upsample_scale)\n",
    "\n",
    "print(input_data[:100])\n",
    "print(downsampled[:100])\n",
    "\n",
    "print(len(input_data))\n",
    "print(len(downsampled))\n",
    "\n",
    "print(\"Downsample Rate: \"+str(downsample_rate))\n",
    "print(\"Length of final file: \" + str(len(downsampled)/downsample_rate))\n",
    "\n",
    "wavfile.write(\"after_resonance_after_backwave.wav\", downsample_rate, normalize(input_data, downsampled))\n",
    "wavfile.write(\"after_resonance_compensation.wav\", downsample_after_resonance_compensation_rate, normalize(input_data, downsampled_after_resonance_compensation))\n",
    "wavfile.write(\"input_data.wav\", downsample_rate, input_data)\n",
    "plt.plot(after_resonance_after_backwave)"
   ]
  },
  {
   "cell_type": "code",
   "execution_count": 87,
   "metadata": {},
   "outputs": [
    {
     "data": {
      "text/plain": [
       "[<matplotlib.lines.Line2D at 0x7f8c286453a0>,\n",
       " <matplotlib.lines.Line2D at 0x7f8c28645490>]"
      ]
     },
     "execution_count": 87,
     "metadata": {},
     "output_type": "execute_result"
    },
    {
     "data": {
      "image/png": "[encoded data removed]",
      "text/plain": [
       "<Figure size 432x288 with 1 Axes>"
      ]
     },
     "metadata": {
      "needs_background": "light"
     },
     "output_type": "display_data"
    }
   ],
   "source": [
    "after_resonance_compensation_after_resonance = biquad_with_negative_feedback(\n",
    "after_resonance_compensation,\n",
    "a0 = 0.0057426788667661955,\n",
    "a1 = 0,\n",
    "b0 = 1,\n",
    "a2 = -0.0057426788667661955,\n",
    "b1 = -1.9884505557207934,\n",
    "b2 = 0.9885146422664675,\n",
    "fb_k = 0,\n",
    "store_servo = False\n",
    ")\n",
    "\n",
    "plt.plot(after_resonance_compensation_after_resonance)"
   ]
  },
  {
   "cell_type": "code",
   "execution_count": 88,
   "metadata": {},
   "outputs": [
    {
     "data": {
      "text/plain": [
       "[<matplotlib.lines.Line2D at 0x7f939c7bb8b0>,\n",
       " <matplotlib.lines.Line2D at 0x7f939b87f580>]"
      ]
     },
     "execution_count": 88,
     "metadata": {},
     "output_type": "execute_result"
    },
    {
     "data": {
      "image/png": "[encoded data removed]",
      "text/plain": [
       "<Figure size 432x288 with 1 Axes>"
      ]
     },
     "metadata": {
      "needs_background": "light"
     },
     "output_type": "display_data"
    }
   ],
   "source": [
    "after_resonance_compensation_after_resonance = biquad(\n",
    "upsampled,\n",
    "a0 = 0.0057426788667661955,\n",
    "a1 = 0,\n",
    "b0 = 1,\n",
    "a2 = -0.0057426788667661955,\n",
    "b1 = -1.9884505557207934,\n",
    "b2 = 0.9885146422664675\n",
    ")\n",
    "\n",
    "plt.plot(after_resonance_compensation_after_resonance)"
   ]
  },
  {
   "cell_type": "code",
   "execution_count": null,
   "metadata": {},
   "outputs": [],
   "source": []
  }
 ],
 "metadata": {
  "kernelspec": {
   "display_name": "Python 3",
   "language": "python",
   "name": "python3"
  },
  "language_info": {
   "codemirror_mode": {
    "name": "ipython",
    "version": 3
   },
   "file_extension": ".py",
   "mimetype": "text/x-python",
   "name": "python",
   "nbconvert_exporter": "python",
   "pygments_lexer": "ipython3",
   "version": "3.8.5"
  }
 },
 "nbformat": 4,
 "nbformat_minor": 4
}
