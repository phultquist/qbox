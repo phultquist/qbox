{
 "cells": [
  {
   "cell_type": "code",
   "execution_count": 1,
   "metadata": {},
   "outputs": [],
   "source": [
    "from scipy.io import wavfile\n",
    "from scipy import signal\n",
    "from scipy.interpolate import CubicSpline\n",
    "\n",
    "import matplotlib.pyplot as plt\n",
    "import numpy as np\n",
    "from scipy import constants\n",
    "\n",
    "import pandas as pd"
   ]
  },
  {
   "cell_type": "code",
   "execution_count": 10,
   "metadata": {},
   "outputs": [],
   "source": [
    "def biquad(arr, a0, a1, a2, b0, b1, b2):\n",
    "    x_prev1 = 0 #x sub n-1\n",
    "    x_prev2 = 0 #x sub n-2\n",
    "    \n",
    "    y_prev1 = 0 #y prev n-1\n",
    "    y_prev2 = 0 #y sub n-2\n",
    "    \n",
    "    output = []\n",
    "    \n",
    "    for i in range(len(arr)):\n",
    "        # i = 0, 1, 2, 3, 4, 5...\n",
    "            \n",
    "        x_current = arr[i]\n",
    "        y_current = (a0 * x_current + a1 * x_prev1 + a2 * x_prev2 - b1 * y_prev1 - b2 * y_prev2) / b0\n",
    "        \n",
    "        output.append(y_current)\n",
    "        \n",
    "        x_prev2 = x_prev1\n",
    "        x_prev1 = x_current\n",
    "        \n",
    "        y_prev2 = y_prev1\n",
    "        y_prev1 = y_current\n",
    "        \n",
    "    return output"
   ]
  },
  {
   "cell_type": "code",
   "execution_count": 20,
   "metadata": {},
   "outputs": [
    {
     "name": "stderr",
     "output_type": "stream",
     "text": [
      "/Users/patrickhultquist/opt/anaconda3/lib/python3.7/site-packages/ipykernel_launcher.py:1: WavFileWarning: Chunk (non-data) not understood, skipping it.\n",
      "  \"\"\"Entry point for launching an IPython kernel.\n"
     ]
    },
    {
     "name": "stdout",
     "output_type": "stream",
     "text": [
      "Length of recording: 30.5179375\n",
      "Length of input data: 1464861\n"
     ]
    },
    {
     "data": {
      "image/png": "[encoded data removed]",
      "text/plain": [
       "<Figure size 432x288 with 1 Axes>"
      ]
     },
     "metadata": {
      "needs_background": "light"
     },
     "output_type": "display_data"
    }
   ],
   "source": [
    "sample_rate, input_data = wavfile.read(\"./../samples/First30s of Amber Rubarth _ Storms Are On The Ocean - Track 1 -  Dr. Chesky's Binaural Sound Show - 2012.wav\")\n",
    "# plt.plot(input_data[0:100])\n",
    "# input_data = input_data[18 * 44000:18*44000 + 25]\n",
    "\n",
    "upsample_scale = 8\n",
    "\n",
    "cs = CubicSpline(np.arange(len(input_data)), input_data)\n",
    "\n",
    "xs = np.arange(0, len(input_data), 1/upsample_scale)\n",
    "\n",
    "# upsampled = np.int16(cs(xs))\n",
    "upsampled = cs(xs)\n",
    "upsampled_rate = upsample_scale * sample_rate\n",
    "\n",
    "print(\"Length of recording: \" + str(len(input_data)/sample_rate))\n",
    "# plt.plot(xs, cs(xs))\n",
    "plt.plot(input_data)\n",
    "print(\"Length of input data: \" + str(len(input_data)))\n",
    "# plt.plot(xs, upsampled)\n",
    "# after_biquad = biquad(input_data, \n",
    "#        a0 = 0.7368429900740087, \n",
    "#        a1 = -1.4736859801480173,\n",
    "#        a2 = 0.7368429900740087,\n",
    "#        b0 = 1,\n",
    "#        b1 = -1.4042736459936045,\n",
    "#        b2 = 0.5430983143024303\n",
    "#       )\n",
    "\n",
    "# plt.plot(after_biquad)"
   ]
  },
  {
   "cell_type": "code",
   "execution_count": 21,
   "metadata": {},
   "outputs": [],
   "source": [
    "def normalize(original, output_data, normalize_to=None):\n",
    "    max_original = np.amax(np.absolute(original))\n",
    "    max_values = np.amax(np.absolute(output_data))\n",
    "    if normalize_to is not None:\n",
    "        max_original = normalize_to\n",
    "    scalar = (max_original / max_values)\n",
    "    print(\"Scalar:\", scalar)\n",
    "    \n",
    "    for i in range(len(output_data)):\n",
    "        output_data[i] = scalar * output_data[i]\n",
    "\n",
    "    return np.int16(output_data)"
   ]
  },
  {
   "cell_type": "code",
   "execution_count": 22,
   "metadata": {},
   "outputs": [],
   "source": [
    "def biquad_with_negative_feedback(arr, a0, a1, a2, b1, b2, fb_k, b0=1, store_servo=True):\n",
    "    servo_signal_current = 0 #\n",
    "    \n",
    "    servo_signal_prev1 = 0 #servo_signal sub n-1\n",
    "    servo_signal_prev2 = 0 #servo_signal sub n-2\n",
    "    \n",
    "    y_prev1 = 0 #y prev n-1\n",
    "    y_prev2 = 0 #y sub n-2\n",
    "    \n",
    "    output = []\n",
    "    \n",
    "    for i in range(len(arr)):\n",
    "        # i = 0, 1, 2, 3, 4, 5...\n",
    "            \n",
    "        x_current = arr[i]\n",
    "        \n",
    "        servo_signal_current = x_current - fb_k * y_prev1\n",
    "        \n",
    "        y_current = (a0 * servo_signal_current + a1 * servo_signal_prev1 + a2 * servo_signal_prev2 - b1 * y_prev1 - b2 * y_prev2) / b0\n",
    "\n",
    "        if store_servo:\n",
    "            output.append(servo_signal_current)\n",
    "        else:\n",
    "            output.append(y_current)\n",
    "    \n",
    "        servo_signal_prev2 = servo_signal_prev1\n",
    "        servo_signal_prev1 = servo_signal_current\n",
    "        \n",
    "        y_prev2 = y_prev1\n",
    "        y_prev1 = y_current\n",
    "        \n",
    "    return output"
   ]
  },
  {
   "cell_type": "code",
   "execution_count": 23,
   "metadata": {},
   "outputs": [
    {
     "name": "stdout",
     "output_type": "stream",
     "text": [
      "biquad 1 finished\n",
      "biquad 2 finished\n",
      "biquad 3 finished\n",
      "biquad 4 finished\n",
      "biquad 5 finished\n",
      "biquad 6 finished\n"
     ]
    }
   ],
   "source": [
    "### 8 inch Dayton DVC ###\n",
    "# after_resonance_compensation = biquad_with_negative_feedback(\n",
    "# upsampled,\n",
    "# a0 = 0.0057426788667661955,\n",
    "# a1 = 0,\n",
    "# b0 = 1,\n",
    "# a2 = -0.0057426788667661955,\n",
    "# b1 = -1.9884505557207934,\n",
    "# b2 = 0.9885146422664675,\n",
    "# fb_k = 0.9\n",
    "# )\n",
    "\n",
    "# 127.5hz, Q = 12.6\n",
    "# 441hz, Q = 16.54\n",
    "# 775hz, Q = 15.59\n",
    "# 1366hz, Q = 16.51\n",
    "# 3,140hz, Q = 9.31\n",
    "# 13980hz, Q = 7.58\n",
    "\n",
    "\n",
    "# 127.5hz, Q=12.6\n",
    "biquad_1 = biquad_with_negative_feedback(\n",
    "upsampled,\n",
    "a0 = 0.00008277935170307788,\n",
    "a1 = 0,\n",
    "a2 = -0.00008277935170307788,\n",
    "b1 = -1.9998300893701344,\n",
    "b2 = 0.9998344412965939,\n",
    "fb_k = 0.9\n",
    ")\n",
    "\n",
    "print(\"biquad 1 finished\")\n",
    "\n",
    "# 441hz, Q=16.54\n",
    "biquad_2 = biquad_with_negative_feedback(\n",
    "biquad_1,\n",
    "a0 = 0.00021808371710924784,\n",
    "a1 = 0,\n",
    "a2 = -0.00021808371710924784,\n",
    "b1 = -1.9995117757188337,\n",
    "b2 = 0.9995638325657816,\n",
    "fb_k = 0.9\n",
    ")\n",
    "\n",
    "print(\"biquad 2 finished\")\n",
    "\n",
    "# 775hz, Q=15.59\n",
    "biquad_3 = biquad_with_negative_feedback(\n",
    "biquad_2,\n",
    "a0 = 0.00040652383054483207,\n",
    "a1 = 0,\n",
    "a2 = -0.00040652383054483207,\n",
    "b1 = -1.999026214440313,\n",
    "b2 = 0.9991869523389103,\n",
    "fb_k = 0.9\n",
    ")\n",
    "\n",
    "print(\"biquad 3 finished\")\n",
    "\n",
    "# 1366hz, Q=16.51\n",
    "biquad_4 = biquad_with_negative_feedback(\n",
    "biquad_3,\n",
    "a0 = 0.0006763823480295895,\n",
    "a1 = 0,\n",
    "a2 = -0.0006763823480295895,\n",
    "b1 = -1.9981480213019729,\n",
    "b2 = 0.9986472353039408,\n",
    "fb_k = 0.9\n",
    ")\n",
    "\n",
    "print(\"biquad 4 finished\")\n",
    "\n",
    "# 3140hz, Q=9.31\n",
    "biquad_5 = biquad_with_negative_feedback(\n",
    "biquad_4,\n",
    "a0 = 0.0027504981545818886,\n",
    "a1 = 0,\n",
    "a2 = -0.0027504981545818886,\n",
    "b1 = -1.9918671310122849,\n",
    "b2 = 0.9944990036908364,\n",
    "fb_k = 0.9\n",
    ")\n",
    "\n",
    "print(\"biquad 5 finished\")\n",
    "\n",
    "# 13980hz, Q=7.58\n",
    "biquad_6 = biquad_with_negative_feedback(\n",
    "biquad_5,\n",
    "a0 = 0.01473718875742926,\n",
    "a1 = 0,\n",
    "a2 = -0.01473718875742926,\n",
    "b1 = -1.9191958688642217,\n",
    "b2 = 0.9705256224851413,\n",
    "fb_k = 0.9\n",
    ")\n",
    "\n",
    "print(\"biquad 6 finished\")"
   ]
  },
  {
   "cell_type": "code",
   "execution_count": 24,
   "metadata": {},
   "outputs": [
    {
     "name": "stdout",
     "output_type": "stream",
     "text": [
      "Downsample Rate: 48000\n",
      "Length of final file: 30.5179375\n",
      "Scalar: 1.0689102\n"
     ]
    },
    {
     "data": {
      "text/plain": [
       "[<matplotlib.lines.Line2D at 0x7fbd6503e5d0>,\n",
       " <matplotlib.lines.Line2D at 0x7fbd6503e7d0>]"
      ]
     },
     "execution_count": 24,
     "metadata": {},
     "output_type": "execute_result"
    },
    {
     "data": {
      "image/png": "[encoded data removed]",
      "text/plain": [
       "<Figure size 432x288 with 1 Axes>"
      ]
     },
     "metadata": {
      "needs_background": "light"
     },
     "output_type": "display_data"
    }
   ],
   "source": [
    "def downsample(item, scale):\n",
    "    cs = CubicSpline(np.arange(len(item)), item)\n",
    "    xs = np.arange(0, len(item), 1/ scale)\n",
    "\n",
    "    downsampled = cs(xs)\n",
    "    downsampled = np.int16(downsampled)\n",
    "    downsample_rate = int(downsample_scale * upsampled_rate)\n",
    "    \n",
    "    return downsampled, downsample_rate\n",
    "\n",
    "downsample_scale = 1 / upsample_scale\n",
    "\n",
    "downsampled_6, downsample_rate = downsample(biquad_6, downsample_scale)\n",
    "# downsampled_after_resonance_compensation, downsample_after_resonance_compensation_rate = downsample(after_resonance_compensation, downsample_scale)\n",
    "\n",
    "print(\"Downsample Rate: \"+str(downsample_rate))\n",
    "print(\"Length of final file: \" + str(len(downsampled_6)/downsample_rate))\n",
    "\n",
    "wavfile.write(\"input_data.wav\", downsample_rate, input_data)\n",
    "wavfile.write(\"biquad_6.wav\", downsample_rate, normalize(input_data, downsampled_6))\n",
    "# wavfile.write(\"after_resonance_after_backwave.wav\", downsample_rate, normalize(input_data, downsampled))\n",
    "# wavfile.write(\"after_resonance_compensation.wav\", downsample_after_resonance_compensation_rate, normalize(input_data, downsampled_after_resonance_compensation, normalize_to=30000))\n",
    "plt.plot(downsampled_6)"
   ]
  },
  {
   "cell_type": "code",
   "execution_count": 87,
   "metadata": {},
   "outputs": [
    {
     "data": {
      "text/plain": [
       "[<matplotlib.lines.Line2D at 0x7f8c286453a0>,\n",
       " <matplotlib.lines.Line2D at 0x7f8c28645490>]"
      ]
     },
     "execution_count": 87,
     "metadata": {},
     "output_type": "execute_result"
    },
    {
     "data": {
      "image/png": "[encoded data removed]",
      "text/plain": [
       "<Figure size 432x288 with 1 Axes>"
      ]
     },
     "metadata": {
      "needs_background": "light"
     },
     "output_type": "display_data"
    }
   ],
   "source": [
    "after_resonance_compensation_after_resonance = biquad_with_negative_feedback(\n",
    "after_resonance_compensation,\n",
    "a0 = 0.0057426788667661955,\n",
    "a1 = 0,\n",
    "b0 = 1,\n",
    "a2 = -0.0057426788667661955,\n",
    "b1 = -1.9884505557207934,\n",
    "b2 = 0.9885146422664675,\n",
    "fb_k = 0,\n",
    "store_servo = False\n",
    ")\n",
    "\n",
    "plt.plot(after_resonance_compensation_after_resonance)"
   ]
  },
  {
   "cell_type": "code",
   "execution_count": 88,
   "metadata": {},
   "outputs": [
    {
     "data": {
      "text/plain": [
       "[<matplotlib.lines.Line2D at 0x7f939c7bb8b0>,\n",
       " <matplotlib.lines.Line2D at 0x7f939b87f580>]"
      ]
     },
     "execution_count": 88,
     "metadata": {},
     "output_type": "execute_result"
    },
    {
     "data": {
      "image/png": "[encoded data removed]",
      "text/plain": [
       "<Figure size 432x288 with 1 Axes>"
      ]
     },
     "metadata": {
      "needs_background": "light"
     },
     "output_type": "display_data"
    }
   ],
   "source": [
    "after_resonance_compensation_after_resonance = biquad(\n",
    "upsampled,\n",
    "a0 = 0.0057426788667661955,\n",
    "a1 = 0,\n",
    "b0 = 1,\n",
    "a2 = -0.0057426788667661955,\n",
    "b1 = -1.9884505557207934,\n",
    "b2 = 0.9885146422664675\n",
    ")\n",
    "\n",
    "plt.plot(after_resonance_compensation_after_resonance)"
   ]
  },
  {
   "cell_type": "code",
   "execution_count": null,
   "metadata": {},
   "outputs": [],
   "source": []
  }
 ],
 "metadata": {
  "kernelspec": {
   "display_name": "Python 3",
   "language": "python",
   "name": "python3"
  },
  "language_info": {
   "codemirror_mode": {
    "name": "ipython",
    "version": 3
   },
   "file_extension": ".py",
   "mimetype": "text/x-python",
   "name": "python",
   "nbconvert_exporter": "python",
   "pygments_lexer": "ipython3",
   "version": "3.7.6"
  }
 },
 "nbformat": 4,
 "nbformat_minor": 4
}
