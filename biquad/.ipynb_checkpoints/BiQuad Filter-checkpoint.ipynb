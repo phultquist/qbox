{
 "cells": [
  {
   "cell_type": "code",
   "execution_count": 15,
   "metadata": {},
   "outputs": [],
   "source": [
    "from scipy.io import wavfile\n",
    "from scipy import signal\n",
    "from scipy.interpolate import CubicSpline\n",
    "\n",
    "import matplotlib.pyplot as plt\n",
    "import numpy as np\n",
    "from scipy import constants\n",
    "\n",
    "import pandas as pd"
   ]
  },
  {
   "cell_type": "code",
   "execution_count": 30,
   "metadata": {},
   "outputs": [],
   "source": [
    "def biquad(arr, a0, a1, a2, b0, b1, b2):\n",
    "    x_prev1 = 0 #x sub n-1\n",
    "    x_prev2 = 0 #x sub n-2\n",
    "    \n",
    "    y_prev1 = 0 #y prev n-1\n",
    "    y_prev2 = 0 #y sub n-2\n",
    "    \n",
    "    output = []\n",
    "    \n",
    "    for i in range(len(arr)):\n",
    "        # i = 0, 1, 2, 3, 4, 5...\n",
    "            \n",
    "        x_current = arr[i]\n",
    "        y_current = (a0 * x_current + a1 * x_prev1 + a2 * x_prev2 - b1 * y_prev1 - b2 * y_prev2) / b0\n",
    "        \n",
    "        output.append(y_current)\n",
    "        \n",
    "        x_prev2 = x_prev1\n",
    "        x_prev1 = x_current\n",
    "        \n",
    "        y_prev2 = y_prev1\n",
    "        y_prev1 = y_current\n",
    "        \n",
    "    return output"
   ]
  },
  {
   "cell_type": "code",
   "execution_count": 28,
   "metadata": {},
   "outputs": [
    {
     "name": "stdout",
     "output_type": "stream",
     "text": [
      "Length of recording: 20.410340136054423\n",
      "900096\n",
      "[ 0.00000000e+00 -4.46797101e-04 -7.14875361e-04 -8.29766045e-04\n",
      " -8.17000413e-04 -7.02109730e-04 -5.10625258e-04 -2.68078261e-04\n",
      "  0.00000000e+00  2.68078261e-04  5.10625258e-04  7.02109730e-04\n",
      "  8.17000413e-04  8.29766045e-04  7.14875361e-04  4.46797101e-04\n",
      "  0.00000000e+00 -6.25515941e-04 -1.32762567e-03 -1.97867288e-03\n",
      " -2.45100124e-03 -2.61695445e-03 -2.34887619e-03 -1.51911014e-03\n",
      "  0.00000000e+00  2.23398550e-03  4.79987743e-03  7.21258177e-03\n",
      "  8.98700454e-03  9.63805175e-03  8.68062939e-03  5.62964347e-03\n",
      "  0.00000000e+00 -8.31042608e-03 -1.78718840e-02 -2.68716542e-02\n",
      " -3.34970169e-02 -3.59352525e-02 -3.23736414e-02 -2.09994637e-02\n",
      "  0.00000000e+00  3.10077188e-02  6.66876587e-02  1.00274035e-01\n",
      "  1.25001063e-01  1.34102958e-01  1.20813936e-01  7.83682115e-02\n",
      "  0.00000000e+00 -1.17673574e-01 -2.64503751e-01 -4.26958861e-01\n",
      " -5.91507236e-01 -7.44617206e-01 -8.72757103e-01 -9.62395257e-01\n",
      " -1.00000000e+00 -9.76329047e-01 -8.99297655e-01 -7.81110466e-01\n",
      " -6.33972120e-01 -4.70087259e-01 -3.01660524e-01 -1.40896557e-01\n",
      "  0.00000000e+00  1.10880388e-01  1.89819372e-01  2.36947599e-01\n",
      "  2.52395714e-01  2.36294366e-01  1.88774199e-01  1.09965862e-01\n",
      "  0.00000000e+00 -1.39067505e-01 -2.97479833e-01 -4.63554929e-01\n",
      " -6.25610738e-01 -7.71965205e-01 -8.90936274e-01 -9.70841891e-01\n",
      " -1.00000000e+00 -9.70625992e-01 -8.90525039e-01 -7.71399757e-01\n",
      " -6.24952762e-01 -4.62886673e-01 -2.96904105e-01 -1.38707675e-01\n",
      "  0.00000000e+00  1.09462099e-01  1.87704989e-01  2.34700831e-01\n",
      "  2.50421788e-01  2.34840021e-01  1.87927692e-01  1.09656965e-01\n",
      "  0.00000000e+00 -1.39097405e-01 -2.97794917e-01 -4.64278568e-01]\n"
     ]
    },
    {
     "data": {
      "image/png": "[encoded data removed]",
      "text/plain": [
       "<Figure size 432x288 with 1 Axes>"
      ]
     },
     "metadata": {
      "needs_background": "light"
     },
     "output_type": "display_data"
    }
   ],
   "source": [
    "sample_rate, input_data = wavfile.read('./../samples/sweep.wav')\n",
    "# plt.plot(input_data[0:100])\n",
    "# input_data = input_data[18 * 44000:18*44000 + 25]\n",
    "\n",
    "upsample_scale = 8\n",
    "\n",
    "cs = CubicSpline(np.arange(len(input_data)), input_data)\n",
    "\n",
    "xs = np.arange(0, len(input_data), 1/upsample_scale)\n",
    "\n",
    "# upsampled = np.int64(cs(xs))\n",
    "upsampled = cs(xs)\n",
    "upsampled_rate = upsample_scale * sample_rate\n",
    "\n",
    "print(\"Length of recording: \" + str(len(input_data)/sample_rate))\n",
    "# plt.plot(xs, cs(xs))\n",
    "plt.plot(input_data)\n",
    "print(\"Length of input data: \" + len(input_data))\n",
    "print(upsampled[0:100])\n",
    "# plt.plot(xs, upsampled)\n",
    "# after_biquad = biquad(input_data, \n",
    "#        a0 = 0.7368429900740087, \n",
    "#        a1 = -1.4736859801480173,\n",
    "#        a2 = 0.7368429900740087,\n",
    "#        b0 = 1,\n",
    "#        b1 = -1.4042736459936045,\n",
    "#        b2 = 0.5430983143024303\n",
    "#       )\n",
    "\n",
    "# plt.plot(after_biquad)"
   ]
  },
  {
   "cell_type": "code",
   "execution_count": 31,
   "metadata": {},
   "outputs": [],
   "source": [
    "def normalize(original, output_data):\n",
    "    max_original = np.amax(np.absolute(original))\n",
    "    max_values = np.amax(np.absolute(output_data))\n",
    "    scalar = (max_original / max_values)\n",
    "    print(\"Scalar:\", scalar)\n",
    "    \n",
    "    for i in range(len(output_data)):\n",
    "        output_data[i] = scalar * output_data[i]\n",
    "\n",
    "    return np.int64(output_data)"
   ]
  },
  {
   "cell_type": "code",
   "execution_count": 32,
   "metadata": {},
   "outputs": [],
   "source": [
    "def biquad_with_negative_feedback(arr, a0, a1, a2, b0, b1, b2, fb_k, store_servo=True):\n",
    "    servo_signal_current = 0 #\n",
    "    \n",
    "    servo_signal_prev1 = 0 #servo_signal sub n-1\n",
    "    servo_signal_prev2 = 0 #servo_signal sub n-2\n",
    "    \n",
    "    y_prev1 = 0 #y prev n-1\n",
    "    y_prev2 = 0 #y sub n-2\n",
    "    \n",
    "    output = []\n",
    "    \n",
    "    for i in range(len(arr)):\n",
    "        # i = 0, 1, 2, 3, 4, 5...\n",
    "            \n",
    "        x_current = arr[i]\n",
    "        \n",
    "        servo_signal_current = x_current - fb_k * y_prev1\n",
    "        \n",
    "        if i < 44100 * 0.5 * 0.25:\n",
    "#             print(x_current, y_prev1)\n",
    "            pass\n",
    "        \n",
    "        y_current = (a0 * servo_signal_current + a1 * servo_signal_prev1 + a2 * servo_signal_prev2 - b1 * y_prev1 - b2 * y_prev2) / b0\n",
    "\n",
    "        if store_servo:\n",
    "            output.append(servo_signal_current)\n",
    "        else:\n",
    "            output.append(y_current)\n",
    "    \n",
    "        servo_signal_prev2 = servo_signal_prev1\n",
    "        servo_signal_prev1 = servo_signal_current\n",
    "        \n",
    "        y_prev2 = y_prev1\n",
    "        y_prev1 = y_current\n",
    "        \n",
    "    return output"
   ]
  },
  {
   "cell_type": "code",
   "execution_count": 33,
   "metadata": {},
   "outputs": [
    {
     "data": {
      "text/plain": [
       "[<matplotlib.lines.Line2D at 0x7f93b9af1700>]"
      ]
     },
     "execution_count": 33,
     "metadata": {},
     "output_type": "execute_result"
    },
    {
     "data": {
      "image/png": "[encoded data removed]",
      "text/plain": [
       "<Figure size 432x288 with 1 Axes>"
      ]
     },
     "metadata": {
      "needs_background": "light"
     },
     "output_type": "display_data"
    }
   ],
   "source": [
    "after_resonance_compensation = biquad_with_negative_feedback(\n",
    "upsampled,\n",
    "a0 = 0.0057426788667661955,\n",
    "a1 = 0,\n",
    "b0 = 1,\n",
    "a2 = -0.0057426788667661955,\n",
    "b1 = -1.9884505557207934,\n",
    "b2 = 0.9885146422664675,\n",
    "fb_k = 0.9\n",
    ")\n",
    "\n",
    "plt.plot(after_resonance_compensation)"
   ]
  },
  {
   "cell_type": "code",
   "execution_count": 35,
   "metadata": {},
   "outputs": [
    {
     "name": "stdout",
     "output_type": "stream",
     "text": [
      "[ 0  0  0  0  0  0  0 -1  0  0 -1  0  0 -1  0  0 -1 -1 -1 -1 -1  0 -1  0\n",
      " -1  0 -1 -1  0 -1 -1 -1  0 -1 -1 -1 -1 -1 -1 -1 -1 -1 -1 -1 -1 -1 -1 -1\n",
      " -1 -1 -1 -1 -1 -1 -1 -2 -1 -1 -1 -2 -1 -1 -1 -1 -1 -2 -1 -2 -1 -2 -2 -2\n",
      " -1 -1 -2 -2 -1 -2 -2 -1 -1 -1 -2 -2 -1 -2 -2 -1 -2 -2 -2 -1 -1 -2 -2 -2\n",
      " -1 -2 -2 -2]\n",
      "44100\n",
      "900096\n",
      "Scalar: 1.0205966641099224\n"
     ]
    },
    {
     "data": {
      "text/plain": [
       "[<matplotlib.lines.Line2D at 0x7f93b7b28c10>]"
      ]
     },
     "execution_count": 35,
     "metadata": {},
     "output_type": "execute_result"
    },
    {
     "data": {
      "image/png": "[encoded data removed]",
      "text/plain": [
       "<Figure size 432x288 with 1 Axes>"
      ]
     },
     "metadata": {
      "needs_background": "light"
     },
     "output_type": "display_data"
    }
   ],
   "source": [
    "after_resonance_after_backwave = biquad_with_negative_feedback(\n",
    "after_resonance_compensation,\n",
    "a0 = 0.4116558936798249,\n",
    "a1 = 0,\n",
    "a2 = -0.4116558936798249,\n",
    "b0 = 1,\n",
    "b1 = -0.17123074520885376,\n",
    "b2 = 0.17668821264035015,\n",
    "fb_k = 0.9\n",
    ")\n",
    "\n",
    "downsample_scale = 1 / upsample_scale\n",
    "\n",
    "cs = CubicSpline(np.arange(len(upsampled)), upsampled)\n",
    "\n",
    "xs = np.arange(0, len(upsampled), 1/ downsample_scale)\n",
    "\n",
    "downsampled = cs(xs)\n",
    "downsampled = np.int64(downsampled)\n",
    "downsample_rate = int(downsample_scale * upsampled_rate)\n",
    "print(downsampled[:100])\n",
    "\n",
    "print(downsample_rate)\n",
    "print(len(downsampled))\n",
    "\n",
    "wavfile.write(\"after_resonance_after_backwave.wav\", downsample_rate, normalize(downsampled, np.array(after_resonance_after_backwave)))\n",
    "plt.plot(after_resonance_after_backwave)"
   ]
  },
  {
   "cell_type": "code",
   "execution_count": 8,
   "metadata": {},
   "outputs": [
    {
     "data": {
      "text/plain": [
       "[<matplotlib.lines.Line2D at 0x7f945d12a430>]"
      ]
     },
     "execution_count": 8,
     "metadata": {},
     "output_type": "execute_result"
    },
    {
     "data": {
      "image/png": "[encoded data removed]",
      "text/plain": [
       "<Figure size 432x288 with 1 Axes>"
      ]
     },
     "metadata": {
      "needs_background": "light"
     },
     "output_type": "display_data"
    }
   ],
   "source": [
    "after_resonance_compensation_after_resonance = biquad_with_negative_feedback(\n",
    "after_resonance_compensation,\n",
    "a0 = 0.0057426788667661955,\n",
    "a1 = 0,\n",
    "b0 = 1,\n",
    "a2 = -0.0057426788667661955,\n",
    "b1 = -1.9884505557207934,\n",
    "b2 = 0.9885146422664675,\n",
    "fb_k = 0,\n",
    "store_servo = False\n",
    ")\n",
    "\n",
    "plt.plot(after_resonance_compensation_after_resonance)"
   ]
  },
  {
   "cell_type": "code",
   "execution_count": 9,
   "metadata": {},
   "outputs": [
    {
     "data": {
      "text/plain": [
       "[<matplotlib.lines.Line2D at 0x7f93b08c5580>]"
      ]
     },
     "execution_count": 9,
     "metadata": {},
     "output_type": "execute_result"
    },
    {
     "data": {
      "image/png": "[encoded data removed]",
      "text/plain": [
       "<Figure size 432x288 with 1 Axes>"
      ]
     },
     "metadata": {
      "needs_background": "light"
     },
     "output_type": "display_data"
    }
   ],
   "source": [
    "after_resonance_compensation_after_resonance = biquad(\n",
    "upsampled,\n",
    "a0 = 0.0057426788667661955,\n",
    "a1 = 0,\n",
    "b0 = 1,\n",
    "a2 = -0.0057426788667661955,\n",
    "b1 = -1.9884505557207934,\n",
    "b2 = 0.9885146422664675\n",
    ")\n",
    "\n",
    "plt.plot(after_resonance_compensation_after_resonance)"
   ]
  },
  {
   "cell_type": "code",
   "execution_count": null,
   "metadata": {},
   "outputs": [],
   "source": []
  }
 ],
 "metadata": {
  "kernelspec": {
   "display_name": "Python 3",
   "language": "python",
   "name": "python3"
  },
  "language_info": {
   "codemirror_mode": {
    "name": "ipython",
    "version": 3
   },
   "file_extension": ".py",
   "mimetype": "text/x-python",
   "name": "python",
   "nbconvert_exporter": "python",
   "pygments_lexer": "ipython3",
   "version": "3.8.5"
  }
 },
 "nbformat": 4,
 "nbformat_minor": 4
}
