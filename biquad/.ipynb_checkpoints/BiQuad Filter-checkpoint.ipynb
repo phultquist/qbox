{
 "cells": [
  {
   "cell_type": "code",
   "execution_count": 1,
   "metadata": {},
   "outputs": [],
   "source": [
    "from scipy.io import wavfile\n",
    "from scipy import signal\n",
    "import matplotlib.pyplot as plt\n",
    "import numpy as np\n",
    "from scipy import constants\n",
    "\n",
    "import pandas as pd"
   ]
  },
  {
   "cell_type": "code",
   "execution_count": 53,
   "metadata": {},
   "outputs": [],
   "source": [
    "def biquad(arr, a0, a1, a2, b0, b1, b2):\n",
    "    x_prev1 = 0 #x sub n-1\n",
    "    x_prev2 = 0 #x sub n-2\n",
    "    \n",
    "    y_prev1 = 0 #y prev n-1\n",
    "    y_prev2 = 0 #y sub n-2\n",
    "    \n",
    "    y_output_array = np.array([])\n",
    "    \n",
    "    for i in range(len(arr)):\n",
    "        # i = 0, 1, 2, 3, 4, 5...\n",
    "        \n",
    "        if i%20000 == 0:\n",
    "            print(i)\n",
    "            \n",
    "        x_current = arr[i]\n",
    "        y_current = (a0 * x_current + a1 * x_prev1 + a2 * x_prev2 - b1 * y_prev1 - b2 * y_prev2) / b0\n",
    "        y_output_array = np.append(y_output_array, y_current)\n",
    "        \n",
    "        x_prev2 = x_prev1\n",
    "        x_prev1 = x_current\n",
    "        \n",
    "        y_prev2 = y_prev1\n",
    "        y_prev1 = y_current\n",
    "        \n",
    "    return y_output_array"
   ]
  },
  {
   "cell_type": "code",
   "execution_count": 54,
   "metadata": {},
   "outputs": [
    {
     "name": "stdout",
     "output_type": "stream",
     "text": [
      "0\n",
      "20000\n",
      "40000\n",
      "60000\n",
      "80000\n",
      "100000\n",
      "120000\n",
      "140000\n",
      "160000\n",
      "180000\n",
      "200000\n",
      "220000\n",
      "240000\n",
      "260000\n",
      "280000\n",
      "300000\n",
      "320000\n",
      "340000\n",
      "360000\n",
      "380000\n",
      "400000\n",
      "420000\n",
      "440000\n",
      "460000\n",
      "480000\n",
      "500000\n",
      "520000\n"
     ]
    },
    {
     "data": {
      "text/plain": [
       "[<matplotlib.lines.Line2D at 0x7fb32662e040>]"
      ]
     },
     "execution_count": 54,
     "metadata": {},
     "output_type": "execute_result"
    },
    {
     "data": {
      "image/png": "[encoded data removed]",
      "text/plain": [
       "<Figure size 432x288 with 1 Axes>"
      ]
     },
     "metadata": {
      "needs_background": "light"
     },
     "output_type": "display_data"
    }
   ],
   "source": [
    "sample_rate, input_data = wavfile.read('./../samples/sweep_short.wav')\n",
    "# plt.plot(input_data[0:10000])\n",
    "\n",
    "after_biquad = biquad(input_data, \n",
    "       a0 = 0.7368429900740087, \n",
    "       a1 = -1.4736859801480173,\n",
    "       a2 = 0.7368429900740087,\n",
    "       b0 = 1,\n",
    "       b1 = -1.4042736459936045,\n",
    "       b2 = 0.5430983143024303\n",
    "      )\n",
    "\n",
    "plt.plot(after_biquad)"
   ]
  },
  {
   "cell_type": "code",
   "execution_count": 47,
   "metadata": {},
   "outputs": [],
   "source": [
    "def biquad_with_negative_feedback(arr, a0, a1, a2, b0, b1, b2, fb_db):\n",
    "    servo_signal_current = 0 #\n",
    "    \n",
    "    servo_signal_prev1 = 0 #servo_signal sub n-1\n",
    "    servo_signal_prev2 = 0 #servo_signal sub n-2\n",
    "    \n",
    "    y_prev1 = 0 #y prev n-1\n",
    "    y_prev2 = 0 #y sub n-2\n",
    "    \n",
    "    y_output_array = np.array([])\n",
    "    \n",
    "    for i in range(len(arr)):\n",
    "        # i = 0, 1, 2, 3, 4, 5...\n",
    "        \n",
    "        if i%20000 == 0:\n",
    "            print(i)\n",
    "            \n",
    "        x_current = arr[i]\n",
    "        \n",
    "        servo_signal_current = x_current - 10 * (10 ** fb_db) * y_prev1\n",
    "        \n",
    "        y_current = (a0 * servo_signal_current + a1 * servo_signal_prev1 + a2 * servo_signal_prev2 - b1 * y_prev1 - b2 * y_prev2) / b0\n",
    "        y_output_array = np.append(y_output_array, y_current)\n",
    "        \n",
    "        servo_signal_prev2 = servo_signal_prev1\n",
    "        servo_signal_prev1 = servo_signal_current\n",
    "        \n",
    "        y_prev2 = y_prev1\n",
    "        y_prev1 = y_current\n",
    "        \n",
    "    return y_output_array"
   ]
  },
  {
   "cell_type": "code",
   "execution_count": 56,
   "metadata": {},
   "outputs": [
    {
     "name": "stdout",
     "output_type": "stream",
     "text": [
      "0\n",
      "20000\n",
      "40000\n",
      "60000\n",
      "80000\n",
      "100000\n",
      "120000\n",
      "140000\n",
      "160000\n",
      "180000\n",
      "200000\n",
      "220000\n",
      "240000\n",
      "260000\n",
      "280000\n",
      "300000\n",
      "320000\n",
      "340000\n",
      "360000\n",
      "380000\n",
      "400000\n",
      "420000\n",
      "440000\n",
      "460000\n",
      "480000\n",
      "500000\n",
      "520000\n"
     ]
    },
    {
     "data": {
      "text/plain": [
       "[<matplotlib.lines.Line2D at 0x7fb32314de80>]"
      ]
     },
     "execution_count": 56,
     "metadata": {},
     "output_type": "execute_result"
    },
    {
     "data": {
      "image/png": "[encoded data removed]",
      "text/plain": [
       "<Figure size 432x288 with 1 Axes>"
      ]
     },
     "metadata": {
      "needs_background": "light"
     },
     "output_type": "display_data"
    }
   ],
   "source": [
    "after_biquad_with_negative_feedback = biquad_with_negative_feedback(input_data, \n",
    "       a0 = 0.7368429900740087, \n",
    "       a1 = -1.4736859801480173,\n",
    "       a2 = 0.7368429900740087,\n",
    "       b0 = 1,\n",
    "       b1 = -1.4042736459936045,\n",
    "       b2 = 0.5430983143024303,\n",
    "       fb_db = -1\n",
    "      )\n",
    "\n",
    "plt.plot(after_biquad_with_negative_feedback)"
   ]
  },
  {
   "cell_type": "code",
   "execution_count": 51,
   "metadata": {},
   "outputs": [
    {
     "data": {
      "text/plain": [
       "[<matplotlib.lines.Line2D at 0x7fb31a5d3670>]"
      ]
     },
     "execution_count": 51,
     "metadata": {},
     "output_type": "execute_result"
    },
    {
     "data": {
      "image/png": "[encoded data removed]",
      "text/plain": [
       "<Figure size 432x288 with 1 Axes>"
      ]
     },
     "metadata": {
      "needs_background": "light"
     },
     "output_type": "display_data"
    }
   ],
   "source": [
    "plt.plot(after_biquad)"
   ]
  },
  {
   "cell_type": "raw",
   "metadata": {},
   "source": []
  },
  {
   "cell_type": "code",
   "execution_count": null,
   "metadata": {},
   "outputs": [],
   "source": []
  }
 ],
 "metadata": {
  "kernelspec": {
   "display_name": "Python 3",
   "language": "python",
   "name": "python3"
  },
  "language_info": {
   "codemirror_mode": {
    "name": "ipython",
    "version": 3
   },
   "file_extension": ".py",
   "mimetype": "text/x-python",
   "name": "python",
   "nbconvert_exporter": "python",
   "pygments_lexer": "ipython3",
   "version": "3.8.5"
  }
 },
 "nbformat": 4,
 "nbformat_minor": 4
}
